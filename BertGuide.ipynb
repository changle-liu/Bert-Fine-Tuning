{
 "cells": [
  {
   "metadata": {},
   "cell_type": "markdown",
   "source": "# BERT Fine-Tuning",
   "id": "9f2afabc5f3de039"
  },
  {
   "metadata": {},
   "cell_type": "markdown",
   "source": "## 单句分类",
   "id": "52b2032741845a57"
  },
  {
   "metadata": {
    "ExecuteTime": {
     "end_time": "2024-09-30T09:35:06.056484Z",
     "start_time": "2024-09-30T09:34:57.639831Z"
    }
   },
   "cell_type": "code",
   "source": [
    "import transformers\n",
    "import wget\n",
    "import os\n",
    "import zipfile\n",
    "import torch\n",
    "from torch.utils.data import TensorDataset"
   ],
   "id": "initial_id",
   "outputs": [],
   "execution_count": 1
  },
  {
   "metadata": {},
   "cell_type": "markdown",
   "source": "### 加载数据集",
   "id": "d0450e2c6b58e812"
  },
  {
   "metadata": {},
   "cell_type": "markdown",
   "source": [
    "使用CoLA数据集进行单句分类\n",
    "\n",
    "下载&解压"
   ],
   "id": "b6a91abc74c8b83d"
  },
  {
   "metadata": {
    "ExecuteTime": {
     "end_time": "2024-09-30T09:35:06.072428Z",
     "start_time": "2024-09-30T09:35:06.057460Z"
    }
   },
   "cell_type": "code",
   "source": [
    "url = 'https://nyu-mll.github.io/CoLA/cola_public_1.1.zip'\n",
    "if not os.path.exists('./cola_public_1.1.zip'):\n",
    "    print('Downloading dataset...')\n",
    "    wget.download(url, os.path.join('./cola_public_1.1.zip'))\n",
    "    print('Extracting dataset...')\n",
    "    "
   ],
   "id": "414049537c41b797",
   "outputs": [],
   "execution_count": 2
  },
  {
   "metadata": {
    "ExecuteTime": {
     "end_time": "2024-09-30T09:35:06.088448Z",
     "start_time": "2024-09-30T09:35:06.073429Z"
    }
   },
   "cell_type": "code",
   "source": [
    "if not os.path.exists('./cola_public/'):\n",
    "    f = zipfile.ZipFile('./cola_public_1.1.zip', 'r')\n",
    "    for file in f.namelist():\n",
    "        f.extractall('./cola_public')\n",
    "    f.close()"
   ],
   "id": "488bf923efc58589",
   "outputs": [],
   "execution_count": 3
  },
  {
   "metadata": {
    "ExecuteTime": {
     "end_time": "2024-09-30T09:35:07.409998Z",
     "start_time": "2024-09-30T09:35:06.090429Z"
    }
   },
   "cell_type": "code",
   "source": [
    "import pandas as pd\n",
    "df = pd.read_csv('cola_public/cola_public/raw/in_domain_train.tsv', delimiter='\\t', header=None, names=['sentence_source', 'label', 'label_notes', 'sentence'])\n",
    "print('Number of training sentences: {:,}\\n'.format(df.shape[0]))\n",
    "df.sample(10)"
   ],
   "id": "a3e755b289beb2bb",
   "outputs": [
    {
     "name": "stdout",
     "output_type": "stream",
     "text": [
      "Number of training sentences: 8,551\n",
      "\n"
     ]
    },
    {
     "data": {
      "text/plain": [
       "     sentence_source  label label_notes  \\\n",
       "6657            m_02      1         NaN   \n",
       "3325            l-93      0           *   \n",
       "7919            ad03      1         NaN   \n",
       "3771            ks08      1         NaN   \n",
       "7837            ad03      1         NaN   \n",
       "4365            ks08      0           *   \n",
       "1991            r-67      1         NaN   \n",
       "4794            ks08      1         NaN   \n",
       "2230            l-93      1         NaN   \n",
       "6681            m_02      1         NaN   \n",
       "\n",
       "                                           sentence  \n",
       "6657               Grandma is coming here tomorrow.  \n",
       "3325         I had to bulge the bag with groceries.  \n",
       "7919                             Anson became happy  \n",
       "3771                  Michelle became an architect.  \n",
       "7837     That Plato loved Aster deeply was obvious.  \n",
       "4365    We expect the dentist to examine ourselves.  \n",
       "1991  That anybody ever left at all is not certain.  \n",
       "4794       John inquired which book he should read.  \n",
       "2230                          This oven cooks well.  \n",
       "6681                  Did Frank buy Jane the piano?  "
      ],
      "text/html": [
       "<div>\n",
       "<style scoped>\n",
       "    .dataframe tbody tr th:only-of-type {\n",
       "        vertical-align: middle;\n",
       "    }\n",
       "\n",
       "    .dataframe tbody tr th {\n",
       "        vertical-align: top;\n",
       "    }\n",
       "\n",
       "    .dataframe thead th {\n",
       "        text-align: right;\n",
       "    }\n",
       "</style>\n",
       "<table border=\"1\" class=\"dataframe\">\n",
       "  <thead>\n",
       "    <tr style=\"text-align: right;\">\n",
       "      <th></th>\n",
       "      <th>sentence_source</th>\n",
       "      <th>label</th>\n",
       "      <th>label_notes</th>\n",
       "      <th>sentence</th>\n",
       "    </tr>\n",
       "  </thead>\n",
       "  <tbody>\n",
       "    <tr>\n",
       "      <th>6657</th>\n",
       "      <td>m_02</td>\n",
       "      <td>1</td>\n",
       "      <td>NaN</td>\n",
       "      <td>Grandma is coming here tomorrow.</td>\n",
       "    </tr>\n",
       "    <tr>\n",
       "      <th>3325</th>\n",
       "      <td>l-93</td>\n",
       "      <td>0</td>\n",
       "      <td>*</td>\n",
       "      <td>I had to bulge the bag with groceries.</td>\n",
       "    </tr>\n",
       "    <tr>\n",
       "      <th>7919</th>\n",
       "      <td>ad03</td>\n",
       "      <td>1</td>\n",
       "      <td>NaN</td>\n",
       "      <td>Anson became happy</td>\n",
       "    </tr>\n",
       "    <tr>\n",
       "      <th>3771</th>\n",
       "      <td>ks08</td>\n",
       "      <td>1</td>\n",
       "      <td>NaN</td>\n",
       "      <td>Michelle became an architect.</td>\n",
       "    </tr>\n",
       "    <tr>\n",
       "      <th>7837</th>\n",
       "      <td>ad03</td>\n",
       "      <td>1</td>\n",
       "      <td>NaN</td>\n",
       "      <td>That Plato loved Aster deeply was obvious.</td>\n",
       "    </tr>\n",
       "    <tr>\n",
       "      <th>4365</th>\n",
       "      <td>ks08</td>\n",
       "      <td>0</td>\n",
       "      <td>*</td>\n",
       "      <td>We expect the dentist to examine ourselves.</td>\n",
       "    </tr>\n",
       "    <tr>\n",
       "      <th>1991</th>\n",
       "      <td>r-67</td>\n",
       "      <td>1</td>\n",
       "      <td>NaN</td>\n",
       "      <td>That anybody ever left at all is not certain.</td>\n",
       "    </tr>\n",
       "    <tr>\n",
       "      <th>4794</th>\n",
       "      <td>ks08</td>\n",
       "      <td>1</td>\n",
       "      <td>NaN</td>\n",
       "      <td>John inquired which book he should read.</td>\n",
       "    </tr>\n",
       "    <tr>\n",
       "      <th>2230</th>\n",
       "      <td>l-93</td>\n",
       "      <td>1</td>\n",
       "      <td>NaN</td>\n",
       "      <td>This oven cooks well.</td>\n",
       "    </tr>\n",
       "    <tr>\n",
       "      <th>6681</th>\n",
       "      <td>m_02</td>\n",
       "      <td>1</td>\n",
       "      <td>NaN</td>\n",
       "      <td>Did Frank buy Jane the piano?</td>\n",
       "    </tr>\n",
       "  </tbody>\n",
       "</table>\n",
       "</div>"
      ]
     },
     "execution_count": 4,
     "metadata": {},
     "output_type": "execute_result"
    }
   ],
   "execution_count": 4
  },
  {
   "metadata": {},
   "cell_type": "markdown",
   "source": "label=0: 语法上不可接受",
   "id": "8c2a7b06442ff2e3"
  },
  {
   "metadata": {
    "ExecuteTime": {
     "end_time": "2024-09-30T09:35:07.425983Z",
     "start_time": "2024-09-30T09:35:07.410983Z"
    }
   },
   "cell_type": "code",
   "source": "df.loc[df.label == 0].sample(10)[['sentence', 'label']]",
   "id": "76a4cb4fe51ac292",
   "outputs": [
    {
     "data": {
      "text/plain": [
       "                                               sentence  label\n",
       "7977          Julie maintained if the barman was sober.      0\n",
       "4686              He is looked generally on as selfish.      0\n",
       "4155         Two drops sanitize anything in your house.      0\n",
       "7979                               Julie became a fond.      0\n",
       "1306  Tom picked, and I washed some turnips, and Suz...      0\n",
       "6006              Calvin not will eat the beef waffles.      0\n",
       "4805  Kim asked me that the monkeys are very fond of...      0\n",
       "400   How many people do you wonder whether I consid...      0\n",
       "2408              Those new bricks constructed a house.      0\n",
       "7898                                    I intoned fruit      0"
      ],
      "text/html": [
       "<div>\n",
       "<style scoped>\n",
       "    .dataframe tbody tr th:only-of-type {\n",
       "        vertical-align: middle;\n",
       "    }\n",
       "\n",
       "    .dataframe tbody tr th {\n",
       "        vertical-align: top;\n",
       "    }\n",
       "\n",
       "    .dataframe thead th {\n",
       "        text-align: right;\n",
       "    }\n",
       "</style>\n",
       "<table border=\"1\" class=\"dataframe\">\n",
       "  <thead>\n",
       "    <tr style=\"text-align: right;\">\n",
       "      <th></th>\n",
       "      <th>sentence</th>\n",
       "      <th>label</th>\n",
       "    </tr>\n",
       "  </thead>\n",
       "  <tbody>\n",
       "    <tr>\n",
       "      <th>7977</th>\n",
       "      <td>Julie maintained if the barman was sober.</td>\n",
       "      <td>0</td>\n",
       "    </tr>\n",
       "    <tr>\n",
       "      <th>4686</th>\n",
       "      <td>He is looked generally on as selfish.</td>\n",
       "      <td>0</td>\n",
       "    </tr>\n",
       "    <tr>\n",
       "      <th>4155</th>\n",
       "      <td>Two drops sanitize anything in your house.</td>\n",
       "      <td>0</td>\n",
       "    </tr>\n",
       "    <tr>\n",
       "      <th>7979</th>\n",
       "      <td>Julie became a fond.</td>\n",
       "      <td>0</td>\n",
       "    </tr>\n",
       "    <tr>\n",
       "      <th>1306</th>\n",
       "      <td>Tom picked, and I washed some turnips, and Suz...</td>\n",
       "      <td>0</td>\n",
       "    </tr>\n",
       "    <tr>\n",
       "      <th>6006</th>\n",
       "      <td>Calvin not will eat the beef waffles.</td>\n",
       "      <td>0</td>\n",
       "    </tr>\n",
       "    <tr>\n",
       "      <th>4805</th>\n",
       "      <td>Kim asked me that the monkeys are very fond of...</td>\n",
       "      <td>0</td>\n",
       "    </tr>\n",
       "    <tr>\n",
       "      <th>400</th>\n",
       "      <td>How many people do you wonder whether I consid...</td>\n",
       "      <td>0</td>\n",
       "    </tr>\n",
       "    <tr>\n",
       "      <th>2408</th>\n",
       "      <td>Those new bricks constructed a house.</td>\n",
       "      <td>0</td>\n",
       "    </tr>\n",
       "    <tr>\n",
       "      <th>7898</th>\n",
       "      <td>I intoned fruit</td>\n",
       "      <td>0</td>\n",
       "    </tr>\n",
       "  </tbody>\n",
       "</table>\n",
       "</div>"
      ]
     },
     "execution_count": 5,
     "metadata": {},
     "output_type": "execute_result"
    }
   ],
   "execution_count": 5
  },
  {
   "metadata": {
    "ExecuteTime": {
     "end_time": "2024-09-30T09:35:07.440983Z",
     "start_time": "2024-09-30T09:35:07.426983Z"
    }
   },
   "cell_type": "code",
   "source": [
    "sentences = df.sentence.values\n",
    "labels = df.label.values"
   ],
   "id": "1d6b5feca2f1bf4d",
   "outputs": [],
   "execution_count": 6
  },
  {
   "metadata": {},
   "cell_type": "markdown",
   "source": "### 分词 & 格式化输入层",
   "id": "7e67d8339e143139"
  },
  {
   "metadata": {},
   "cell_type": "markdown",
   "source": "将文本通过BERT内部提供的词汇表进行分词",
   "id": "296d71242cba64bb"
  },
  {
   "metadata": {
    "ExecuteTime": {
     "end_time": "2024-09-30T09:35:08.121689Z",
     "start_time": "2024-09-30T09:35:07.441988Z"
    }
   },
   "cell_type": "code",
   "source": [
    "from transformers import BertTokenizer\n",
    "# 加载 BERT 分词器\n",
    "print('Loading BERT tokenizer...')\n",
    "tokenizer = BertTokenizer.from_pretrained('./local_bert_base_uncased/', do_lower_case=True)\n"
   ],
   "id": "57d546ef60c9709c",
   "outputs": [
    {
     "name": "stdout",
     "output_type": "stream",
     "text": [
      "Loading BERT tokenizer...\n"
     ]
    }
   ],
   "execution_count": 7
  },
  {
   "metadata": {
    "ExecuteTime": {
     "end_time": "2024-09-30T09:35:08.137747Z",
     "start_time": "2024-09-30T09:35:08.122651Z"
    }
   },
   "cell_type": "code",
   "source": [
    "# 输出原始句子\n",
    "print(' Original: ', sentences[0])\n",
    "\n",
    "# 将分词后的内容输出\n",
    "print('Tokenized: ', tokenizer.tokenize(sentences[0]))\n",
    "\n",
    "# 将每个词映射到词典下标\n",
    "print('Token IDs: ', tokenizer.convert_tokens_to_ids(tokenizer.tokenize(sentences[0])))\n",
    "\n"
   ],
   "id": "756739d3d505b2f0",
   "outputs": [
    {
     "name": "stdout",
     "output_type": "stream",
     "text": [
      " Original:  Our friends won't buy this analysis, let alone the next one we propose.\n",
      "Tokenized:  ['our', 'friends', 'won', \"'\", 't', 'buy', 'this', 'analysis', ',', 'let', 'alone', 'the', 'next', 'one', 'we', 'propose', '.']\n",
      "Token IDs:  [2256, 2814, 2180, 1005, 1056, 4965, 2023, 4106, 1010, 2292, 2894, 1996, 2279, 2028, 2057, 16599, 1012]\n"
     ]
    }
   ],
   "execution_count": 8
  },
  {
   "metadata": {
    "ExecuteTime": {
     "end_time": "2024-09-30T09:35:09.454088Z",
     "start_time": "2024-09-30T09:35:08.139729Z"
    }
   },
   "cell_type": "code",
   "source": [
    "max_len = 0\n",
    "for sentence in sentences:\n",
    "    input_ids = tokenizer.encode(sentence, add_special_tokens=True)\n",
    "    max_len = max(max_len, len(input_ids))\n",
    "print('Max length: ', max_len)"
   ],
   "id": "fa5b212f5da6a0e6",
   "outputs": [
    {
     "name": "stdout",
     "output_type": "stream",
     "text": [
      "Max length:  47\n"
     ]
    }
   ],
   "execution_count": 9
  },
  {
   "metadata": {
    "ExecuteTime": {
     "end_time": "2024-09-30T09:35:11.222091Z",
     "start_time": "2024-09-30T09:35:09.455073Z"
    }
   },
   "cell_type": "code",
   "source": [
    "input_ids = []\n",
    "attention_mask = []\n",
    "\n",
    "for sentence in sentences:\n",
    "    encoded_dict = tokenizer.encode_plus(\n",
    "                        sentence,                      # 输入文本\n",
    "                        add_special_tokens = True, # 添加 '[CLS]' 和 '[SEP]'\n",
    "                        max_length = 64,           # 填充 & 截断长度\n",
    "                        pad_to_max_length = True,\n",
    "                        return_attention_mask = True,   # 返回 attn. masks.\n",
    "                        return_tensors = 'pt',     # 返回 pytorch tensors 格式的数据\n",
    "                   )\n",
    "    # 编码后文本和mask\n",
    "    input_ids.append(encoded_dict['input_ids'])\n",
    "    attention_mask.append(encoded_dict['attention_mask'])\n",
    "input_ids = torch.cat(input_ids, dim = 0)\n",
    "attention_mask = torch.cat(attention_mask, dim = 0)\n",
    "labels = torch.tensor(labels)\n",
    "\n",
    "# 输出第 1 行文本的原始和编码后的信息\n",
    "print('Original: ', sentences[0])\n",
    "print('Token IDs:', input_ids[0])\n"
   ],
   "id": "1b422734f4793546",
   "outputs": [
    {
     "name": "stderr",
     "output_type": "stream",
     "text": [
      "Truncation was not explicitly activated but `max_length` is provided a specific value, please use `truncation=True` to explicitly truncate examples to max length. Defaulting to 'longest_first' truncation strategy. If you encode pairs of sequences (GLUE-style) with the tokenizer you can select this strategy more precisely by providing a specific strategy to `truncation`.\n",
      "D:\\Anaconda\\envs\\dsxAI\\lib\\site-packages\\transformers\\tokenization_utils_base.py:2418: FutureWarning: The `pad_to_max_length` argument is deprecated and will be removed in a future version, use `padding=True` or `padding='longest'` to pad to the longest sequence in the batch, or use `padding='max_length'` to pad to a max length. In this case, you can give a specific length with `max_length` (e.g. `max_length=45`) or leave max_length to None to pad to the maximal input size of the model (e.g. 512 for Bert).\n",
      "  warnings.warn(\n"
     ]
    },
    {
     "name": "stdout",
     "output_type": "stream",
     "text": [
      "Original:  Our friends won't buy this analysis, let alone the next one we propose.\n",
      "Token IDs: tensor([  101,  2256,  2814,  2180,  1005,  1056,  4965,  2023,  4106,  1010,\n",
      "         2292,  2894,  1996,  2279,  2028,  2057, 16599,  1012,   102,     0,\n",
      "            0,     0,     0,     0,     0,     0,     0,     0,     0,     0,\n",
      "            0,     0,     0,     0,     0,     0,     0,     0,     0,     0,\n",
      "            0,     0,     0,     0,     0,     0,     0,     0,     0,     0,\n",
      "            0,     0,     0,     0,     0,     0,     0,     0,     0,     0,\n",
      "            0,     0,     0,     0])\n"
     ]
    }
   ],
   "execution_count": 10
  },
  {
   "metadata": {
    "ExecuteTime": {
     "end_time": "2024-09-30T09:35:11.237552Z",
     "start_time": "2024-09-30T09:35:11.223103Z"
    }
   },
   "cell_type": "code",
   "source": [
    "from torch.utils.data import TensorDataset, random_split\n",
    "dataset = TensorDataset(input_ids, attention_mask, labels)\n",
    "train_size = int(0.9 * len(dataset))\n",
    "val_size = len(dataset) - train_size\n",
    "train_dataset, val_dataset = random_split(dataset, [train_size, val_size])\n",
    "print('{:>5,} training samples'.format(train_size))\n",
    "print('{:>5,} validation samples'.format(val_size))"
   ],
   "id": "df5a714a6df47db7",
   "outputs": [
    {
     "name": "stdout",
     "output_type": "stream",
     "text": [
      "7,695 training samples\n",
      "  856 validation samples\n"
     ]
    }
   ],
   "execution_count": 11
  },
  {
   "metadata": {
    "ExecuteTime": {
     "end_time": "2024-09-30T09:35:11.253476Z",
     "start_time": "2024-09-30T09:35:11.238453Z"
    }
   },
   "cell_type": "code",
   "source": [
    "from torch.utils.data import DataLoader, RandomSampler, SequentialSampler\n",
    "batch_size = 32\n",
    "train_dataloader = DataLoader(train_dataset, sampler = RandomSampler(train_dataset), batch_size = batch_size)\n",
    "validation_dataloader = DataLoader(val_dataset, sampler = SequentialSampler(val_dataset), batch_size = batch_size)"
   ],
   "id": "f8cb6ae4acad667d",
   "outputs": [],
   "execution_count": 12
  },
  {
   "metadata": {},
   "cell_type": "markdown",
   "source": "### 训练",
   "id": "3b7975bc7edcc7a8"
  },
  {
   "metadata": {
    "ExecuteTime": {
     "end_time": "2024-09-30T09:35:13.125536Z",
     "start_time": "2024-09-30T09:35:11.255428Z"
    }
   },
   "cell_type": "code",
   "source": [
    "from transformers import BertForSequenceClassification, AdamW, BertConfig\n",
    "model = BertForSequenceClassification.from_pretrained('./local_bert_base_uncased/', num_labels=2, output_attentions = False, output_hidden_states = False)\n",
    "model.cuda()\n",
    "\n",
    "# 将所有模型参数转换为一个列表\n",
    "params = list(model.named_parameters())\n",
    "\n",
    "print('The BERT model has {:} different named parameters.\\n'.format(len(params)))\n",
    "\n",
    "print('==== Embedding Layer ====\\n')\n",
    "\n",
    "for p in params[0:5]:\n",
    "    print(\"{:<55} {:>12}\".format(p[0], str(tuple(p[1].size()))))\n",
    "\n",
    "print('\\n==== First Transformer ====\\n')\n",
    "\n",
    "for p in params[5:21]:\n",
    "    print(\"{:<55} {:>12}\".format(p[0], str(tuple(p[1].size()))))\n",
    "\n",
    "print('\\n==== Output Layer ====\\n')\n",
    "\n",
    "for p in params[-4:]:\n",
    "    print(\"{:<55} {:>12}\".format(p[0], str(tuple(p[1].size()))))\n"
   ],
   "id": "8b94c87cbac7118e",
   "outputs": [
    {
     "name": "stderr",
     "output_type": "stream",
     "text": [
      "D:\\Anaconda\\envs\\dsxAI\\lib\\site-packages\\transformers\\utils\\generic.py:311: FutureWarning: `torch.utils._pytree._register_pytree_node` is deprecated. Please use `torch.utils._pytree.register_pytree_node` instead.\n",
      "  torch.utils._pytree._register_pytree_node(\n",
      "D:\\Anaconda\\envs\\dsxAI\\lib\\site-packages\\transformers\\modeling_utils.py:488: FutureWarning: You are using `torch.load` with `weights_only=False` (the current default value), which uses the default pickle module implicitly. It is possible to construct malicious pickle data which will execute arbitrary code during unpickling (See https://github.com/pytorch/pytorch/blob/main/SECURITY.md#untrusted-models for more details). In a future release, the default value for `weights_only` will be flipped to `True`. This limits the functions that could be executed during unpickling. Arbitrary objects will no longer be allowed to be loaded via this mode unless they are explicitly allowlisted by the user via `torch.serialization.add_safe_globals`. We recommend you start setting `weights_only=True` for any use case where you don't have full control of the loaded file. Please open an issue on GitHub for any issues related to this experimental feature.\n",
      "  return torch.load(checkpoint_file, map_location=map_location)\n",
      "Some weights of BertForSequenceClassification were not initialized from the model checkpoint at ./local_bert_base_uncased/ and are newly initialized: ['classifier.bias', 'classifier.weight']\n",
      "You should probably TRAIN this model on a down-stream task to be able to use it for predictions and inference.\n"
     ]
    },
    {
     "name": "stdout",
     "output_type": "stream",
     "text": [
      "The BERT model has 201 different named parameters.\n",
      "\n",
      "==== Embedding Layer ====\n",
      "\n",
      "bert.embeddings.word_embeddings.weight                  (30522, 768)\n",
      "bert.embeddings.position_embeddings.weight                (512, 768)\n",
      "bert.embeddings.token_type_embeddings.weight                (2, 768)\n",
      "bert.embeddings.LayerNorm.weight                              (768,)\n",
      "bert.embeddings.LayerNorm.bias                                (768,)\n",
      "\n",
      "==== First Transformer ====\n",
      "\n",
      "bert.encoder.layer.0.attention.self.query.weight          (768, 768)\n",
      "bert.encoder.layer.0.attention.self.query.bias                (768,)\n",
      "bert.encoder.layer.0.attention.self.key.weight            (768, 768)\n",
      "bert.encoder.layer.0.attention.self.key.bias                  (768,)\n",
      "bert.encoder.layer.0.attention.self.value.weight          (768, 768)\n",
      "bert.encoder.layer.0.attention.self.value.bias                (768,)\n",
      "bert.encoder.layer.0.attention.output.dense.weight        (768, 768)\n",
      "bert.encoder.layer.0.attention.output.dense.bias              (768,)\n",
      "bert.encoder.layer.0.attention.output.LayerNorm.weight        (768,)\n",
      "bert.encoder.layer.0.attention.output.LayerNorm.bias          (768,)\n",
      "bert.encoder.layer.0.intermediate.dense.weight           (3072, 768)\n",
      "bert.encoder.layer.0.intermediate.dense.bias                 (3072,)\n",
      "bert.encoder.layer.0.output.dense.weight                 (768, 3072)\n",
      "bert.encoder.layer.0.output.dense.bias                        (768,)\n",
      "bert.encoder.layer.0.output.LayerNorm.weight                  (768,)\n",
      "bert.encoder.layer.0.output.LayerNorm.bias                    (768,)\n",
      "\n",
      "==== Output Layer ====\n",
      "\n",
      "bert.pooler.dense.weight                                  (768, 768)\n",
      "bert.pooler.dense.bias                                        (768,)\n",
      "classifier.weight                                           (2, 768)\n",
      "classifier.bias                                                 (2,)\n"
     ]
    }
   ],
   "execution_count": 13
  },
  {
   "metadata": {
    "ExecuteTime": {
     "end_time": "2024-09-30T09:35:13.376536Z",
     "start_time": "2024-09-30T09:35:13.127536Z"
    }
   },
   "cell_type": "code",
   "source": "optimizer = AdamW(model.parameters(), lr=2e-5, eps=1e-8)",
   "id": "875c554242111dd0",
   "outputs": [
    {
     "name": "stderr",
     "output_type": "stream",
     "text": [
      "D:\\Anaconda\\envs\\dsxAI\\lib\\site-packages\\transformers\\optimization.py:411: FutureWarning: This implementation of AdamW is deprecated and will be removed in a future version. Use the PyTorch implementation torch.optim.AdamW instead, or set `no_deprecation_warning=True` to disable this warning\n",
      "  warnings.warn(\n"
     ]
    }
   ],
   "execution_count": 14
  },
  {
   "metadata": {
    "ExecuteTime": {
     "end_time": "2024-09-30T09:35:13.392535Z",
     "start_time": "2024-09-30T09:35:13.377552Z"
    }
   },
   "cell_type": "code",
   "source": [
    "from transformers import get_linear_schedule_with_warmup\n",
    "\n",
    "epochs = 4\n",
    "total_steps = len(train_dataloader) * epochs\n",
    "scheduler = get_linear_schedule_with_warmup(optimizer, num_warmup_steps=0, num_training_steps=total_steps)\n"
   ],
   "id": "b96840235a225aed",
   "outputs": [],
   "execution_count": 15
  },
  {
   "metadata": {
    "ExecuteTime": {
     "end_time": "2024-09-30T09:35:13.408646Z",
     "start_time": "2024-09-30T09:35:13.393543Z"
    }
   },
   "cell_type": "code",
   "source": [
    "import numpy as np\n",
    "def flat_accuracy(preds, labels):\n",
    "    pred_flat = np.argmax(preds, axis=1).flatten()\n",
    "    labels_flat = labels.flatten()\n",
    "    return np.sum(pred_flat == labels_flat) / len(labels_flat)"
   ],
   "id": "f3e5ef410f00a964",
   "outputs": [],
   "execution_count": 16
  },
  {
   "metadata": {
    "ExecuteTime": {
     "end_time": "2024-09-30T09:35:13.424179Z",
     "start_time": "2024-09-30T09:35:13.410182Z"
    }
   },
   "cell_type": "code",
   "source": [
    "import time\n",
    "import datetime\n",
    "def format_time(elapsed):\n",
    "    elapsed_rounded = int(round(elapsed))\n",
    "    return str(datetime.timedelta(seconds=elapsed_rounded))"
   ],
   "id": "945615c45740d448",
   "outputs": [],
   "execution_count": 17
  },
  {
   "metadata": {
    "ExecuteTime": {
     "end_time": "2024-09-30T09:52:53.716739Z",
     "start_time": "2024-09-30T09:47:46.781621Z"
    }
   },
   "cell_type": "code",
   "source": [
    "import random\n",
    "import numpy as np\n",
    "\n",
    "# 以下训练代码是基于 `run_glue.py` 脚本:\n",
    "# https://github.com/huggingface/transformers/blob/5bfcd0485ece086ebcbed2d008813037968a9e58/examples/run_glue.py#L128\n",
    "\n",
    "# 设定随机种子值，以确保输出是确定的\n",
    "seed_val = 42\n",
    "\n",
    "\n",
    "device = torch.device('cuda' if torch.cuda.is_available() else 'cpu')\n",
    "\n",
    "random.seed(seed_val)\n",
    "np.random.seed(seed_val)\n",
    "torch.manual_seed(seed_val)\n",
    "torch.cuda.manual_seed_all(seed_val)\n",
    "\n",
    "# 存储训练和评估的 loss、准确率、训练时长等统计指标, \n",
    "training_stats = []\n",
    "\n",
    "# 统计整个训练时长\n",
    "total_t0 = time.time()\n",
    "\n",
    "for epoch_i in range(0, epochs):\n",
    "    \n",
    "    # ========================================\n",
    "    #               Training\n",
    "    # ========================================\n",
    "    \n",
    "\n",
    "    print(\"\")\n",
    "    print('======== Epoch {:} / {:} ========'.format(epoch_i + 1, epochs))\n",
    "    print('Training...')\n",
    "\n",
    "    # 统计单次 epoch 的训练时间\n",
    "    t0 = time.time()\n",
    "\n",
    "    # 重置每次 epoch 的训练总 loss\n",
    "    total_train_loss = 0\n",
    "\n",
    "    # 将模型设置为训练模式。这里并不是调用训练接口的意思\n",
    "    # dropout、batchnorm 层在训练和测试模式下的表现是不同的 (source: https://stackoverflow.com/questions/51433378/what-does-model-train-do-in-pytorch)\n",
    "    model.train()\n",
    "\n",
    "    # 训练集小批量迭代\n",
    "    for step, batch in enumerate(train_dataloader):\n",
    "\n",
    "        # 每经过40次迭代，就输出进度信息\n",
    "        if step % 40 == 0 and not step == 0:\n",
    "            elapsed = format_time(time.time() - t0)\n",
    "            print('  Batch {:>5,}  of  {:>5,}.    Elapsed: {:}.'.format(step, len(train_dataloader), elapsed))\n",
    "\n",
    "        # 准备输入数据，并将其拷贝到 gpu 中\n",
    "        b_input_ids = batch[0].to(device)\n",
    "        b_input_mask = batch[1].to(device)\n",
    "        b_labels = batch[2].to(device)\n",
    "\n",
    "        # 每次计算梯度前，都需要将梯度清 0，因为 pytorch 的梯度是累加的\n",
    "        model.zero_grad()        \n",
    "\n",
    "        # 前向传播\n",
    "        # 文档参见: \n",
    "        # https://huggingface.co/transformers/v2.2.0/model_doc/bert.html#transformers.BertForSequenceClassification\n",
    "        # 该函数会根据不同的参数，会返回不同的值。 本例中, 会返回 loss 和 logits -- 模型的预测结果\n",
    "\n",
    "        # 前向传播\n",
    "        outputs = model(b_input_ids, token_type_ids=None, attention_mask=b_input_mask, labels=b_labels)\n",
    "        \n",
    "        # 提取 loss 和 logits\n",
    "        loss = outputs.loss\n",
    "        logits = outputs.logits\n",
    "        \n",
    "\n",
    "        # 累加 loss\n",
    "        total_train_loss += loss.item()\n",
    "\n",
    "        # 反向传播\n",
    "        loss.backward()\n",
    "\n",
    "        # 梯度裁剪，避免出现梯度爆炸情况\n",
    "        torch.nn.utils.clip_grad_norm_(model.parameters(), 1.0)\n",
    "\n",
    "        # 更新参数\n",
    "        optimizer.step()\n",
    "\n",
    "        # 更新学习率\n",
    "        scheduler.step()\n",
    "\n",
    "    # 平均训练误差\n",
    "    avg_train_loss = total_train_loss / len(train_dataloader)            \n",
    "    \n",
    "    # 单次 epoch 的训练时长\n",
    "    training_time = format_time(time.time() - t0)\n",
    "\n",
    "    print(\"\")\n",
    "    print(\"  Average training loss: {0:.2f}\".format(avg_train_loss))\n",
    "    print(\"  Training epcoh took: {:}\".format(training_time))\n",
    "        \n",
    "    # ========================================\n",
    "    #               Validation\n",
    "    # ========================================\n",
    "    # 完成一次 epoch 训练后，就对该模型的性能进行验证\n",
    "\n",
    "    print(\"\")\n",
    "    print(\"Running Validation...\")\n",
    "\n",
    "    t0 = time.time()\n",
    "\n",
    "    # 设置模型为评估模式\n",
    "    model.eval()\n",
    "\n",
    "    # Tracking variables \n",
    "    total_eval_accuracy = 0\n",
    "    total_eval_loss = 0\n",
    "    nb_eval_steps = 0\n",
    "\n",
    "    # Evaluate data for one epoch\n",
    "    for batch in validation_dataloader:\n",
    "        \n",
    "        # 将输入数据加载到 gpu 中\n",
    "        b_input_ids = batch[0].to(device)\n",
    "        b_input_mask = batch[1].to(device)\n",
    "        b_labels = batch[2].to(device)\n",
    "        \n",
    "        # 评估的时候不需要更新参数、计算梯度\n",
    "        with torch.no_grad():        \n",
    "            outputs = model(b_input_ids, \n",
    "                                   token_type_ids=None, \n",
    "                                   attention_mask=b_input_mask,\n",
    "                                   labels=b_labels)\n",
    "        # 提取 loss 和 logits\n",
    "        loss = outputs.loss\n",
    "        logits = outputs.logits\n",
    "        # 累加 loss\n",
    "        total_eval_loss += loss.item()\n",
    "\n",
    "        # 将预测结果和 labels 加载到 cpu 中计算\n",
    "        logits = logits.detach().cpu().numpy()\n",
    "        label_ids = b_labels.to('cpu').numpy()\n",
    "\n",
    "        # 计算准确率\n",
    "        total_eval_accuracy += flat_accuracy(logits, label_ids)\n",
    "        \n",
    "\n",
    "    # 打印本次 epoch 的准确率\n",
    "    avg_val_accuracy = total_eval_accuracy / len(validation_dataloader)\n",
    "    print(\"  Accuracy: {0:.2f}\".format(avg_val_accuracy))\n",
    "\n",
    "    # 统计本次 epoch 的 loss\n",
    "    avg_val_loss = total_eval_loss / len(validation_dataloader)\n",
    "    \n",
    "    # 统计本次评估的时长\n",
    "    validation_time = format_time(time.time() - t0)\n",
    "    \n",
    "    print(\"  Validation Loss: {0:.2f}\".format(avg_val_loss))\n",
    "    print(\"  Validation took: {:}\".format(validation_time))\n",
    "\n",
    "    # 记录本次 epoch 的所有统计信息\n",
    "    training_stats.append(\n",
    "        {\n",
    "            'epoch': epoch_i + 1,\n",
    "            'Training Loss': avg_train_loss,\n",
    "            'Valid. Loss': avg_val_loss,\n",
    "            'Valid. Accur.': avg_val_accuracy,\n",
    "            'Training Time': training_time,\n",
    "            'Validation Time': validation_time\n",
    "        }\n",
    "    )\n",
    "\n",
    "print(\"\")\n",
    "print(\"Training complete!\")\n",
    "print(\"Total training took {:} (h:mm:ss)\".format(format_time(time.time()-total_t0)))\n"
   ],
   "id": "25dc2ae13946cee5",
   "outputs": [
    {
     "name": "stdout",
     "output_type": "stream",
     "text": [
      "\n",
      "======== Epoch 1 / 4 ========\n",
      "Training...\n",
      "  Batch    40  of    241.    Elapsed: 0:00:13.\n",
      "  Batch    80  of    241.    Elapsed: 0:00:25.\n",
      "  Batch   120  of    241.    Elapsed: 0:00:38.\n",
      "  Batch   160  of    241.    Elapsed: 0:00:51.\n",
      "  Batch   200  of    241.    Elapsed: 0:01:03.\n",
      "  Batch   240  of    241.    Elapsed: 0:01:16.\n",
      "\n",
      "  Average training loss: 0.20\n",
      "  Training epcoh took: 0:01:16\n",
      "\n",
      "Running Validation...\n",
      "  Accuracy: 0.82\n",
      "  Validation Loss: 0.55\n",
      "  Validation took: 0:00:02\n",
      "\n",
      "======== Epoch 2 / 4 ========\n",
      "Training...\n",
      "  Batch    40  of    241.    Elapsed: 0:00:12.\n",
      "  Batch    80  of    241.    Elapsed: 0:00:25.\n",
      "  Batch   120  of    241.    Elapsed: 0:00:38.\n",
      "  Batch   160  of    241.    Elapsed: 0:00:50.\n",
      "  Batch   200  of    241.    Elapsed: 0:01:03.\n",
      "  Batch   240  of    241.    Elapsed: 0:01:15.\n",
      "\n",
      "  Average training loss: 0.21\n",
      "  Training epcoh took: 0:01:15\n",
      "\n",
      "Running Validation...\n",
      "  Accuracy: 0.83\n",
      "  Validation Loss: 0.52\n",
      "  Validation took: 0:00:02\n",
      "\n",
      "======== Epoch 3 / 4 ========\n",
      "Training...\n",
      "  Batch    40  of    241.    Elapsed: 0:00:12.\n",
      "  Batch    80  of    241.    Elapsed: 0:00:24.\n",
      "  Batch   120  of    241.    Elapsed: 0:00:37.\n",
      "  Batch   160  of    241.    Elapsed: 0:00:49.\n",
      "  Batch   200  of    241.    Elapsed: 0:01:01.\n",
      "  Batch   240  of    241.    Elapsed: 0:01:13.\n",
      "\n",
      "  Average training loss: 0.14\n",
      "  Training epcoh took: 0:01:13\n",
      "\n",
      "Running Validation...\n",
      "  Accuracy: 0.83\n",
      "  Validation Loss: 0.58\n",
      "  Validation took: 0:00:02\n",
      "\n",
      "======== Epoch 4 / 4 ========\n",
      "Training...\n",
      "  Batch    40  of    241.    Elapsed: 0:00:12.\n",
      "  Batch    80  of    241.    Elapsed: 0:00:24.\n",
      "  Batch   120  of    241.    Elapsed: 0:00:36.\n",
      "  Batch   160  of    241.    Elapsed: 0:00:48.\n",
      "  Batch   200  of    241.    Elapsed: 0:01:01.\n",
      "  Batch   240  of    241.    Elapsed: 0:01:13.\n",
      "\n",
      "  Average training loss: 0.12\n",
      "  Training epcoh took: 0:01:13\n",
      "\n",
      "Running Validation...\n",
      "  Accuracy: 0.83\n",
      "  Validation Loss: 0.58\n",
      "  Validation took: 0:00:03\n",
      "\n",
      "Training complete!\n",
      "Total training took 0:05:07 (h:mm:ss)\n"
     ]
    }
   ],
   "execution_count": 22
  },
  {
   "metadata": {
    "ExecuteTime": {
     "end_time": "2024-09-30T09:53:09.122563Z",
     "start_time": "2024-09-30T09:53:09.103561Z"
    }
   },
   "cell_type": "code",
   "source": [
    "import pandas as pd\n",
    "\n",
    "# 保留 2 位小数\n",
    "pd.set_option('precision', 2)\n",
    "\n",
    "# 加载训练统计到 DataFrame 中\n",
    "df_stats = pd.DataFrame(data=training_stats)\n",
    "\n",
    "# 使用 epoch 值作为每行的索引\n",
    "df_stats = df_stats.set_index('epoch')\n",
    "\n",
    "# 展示表格数据\n",
    "df_stats\n"
   ],
   "id": "1140496688e56020",
   "outputs": [
    {
     "data": {
      "text/plain": [
       "       Training Loss  Valid. Loss  Valid. Accur. Training Time Validation Time\n",
       "epoch                                                                         \n",
       "1               0.20         0.55           0.82       0:01:16         0:00:02\n",
       "2               0.21         0.52           0.83       0:01:15         0:00:02\n",
       "3               0.14         0.58           0.83       0:01:13         0:00:02\n",
       "4               0.12         0.58           0.83       0:01:13         0:00:03"
      ],
      "text/html": [
       "<div>\n",
       "<style scoped>\n",
       "    .dataframe tbody tr th:only-of-type {\n",
       "        vertical-align: middle;\n",
       "    }\n",
       "\n",
       "    .dataframe tbody tr th {\n",
       "        vertical-align: top;\n",
       "    }\n",
       "\n",
       "    .dataframe thead th {\n",
       "        text-align: right;\n",
       "    }\n",
       "</style>\n",
       "<table border=\"1\" class=\"dataframe\">\n",
       "  <thead>\n",
       "    <tr style=\"text-align: right;\">\n",
       "      <th></th>\n",
       "      <th>Training Loss</th>\n",
       "      <th>Valid. Loss</th>\n",
       "      <th>Valid. Accur.</th>\n",
       "      <th>Training Time</th>\n",
       "      <th>Validation Time</th>\n",
       "    </tr>\n",
       "    <tr>\n",
       "      <th>epoch</th>\n",
       "      <th></th>\n",
       "      <th></th>\n",
       "      <th></th>\n",
       "      <th></th>\n",
       "      <th></th>\n",
       "    </tr>\n",
       "  </thead>\n",
       "  <tbody>\n",
       "    <tr>\n",
       "      <th>1</th>\n",
       "      <td>0.20</td>\n",
       "      <td>0.55</td>\n",
       "      <td>0.82</td>\n",
       "      <td>0:01:16</td>\n",
       "      <td>0:00:02</td>\n",
       "    </tr>\n",
       "    <tr>\n",
       "      <th>2</th>\n",
       "      <td>0.21</td>\n",
       "      <td>0.52</td>\n",
       "      <td>0.83</td>\n",
       "      <td>0:01:15</td>\n",
       "      <td>0:00:02</td>\n",
       "    </tr>\n",
       "    <tr>\n",
       "      <th>3</th>\n",
       "      <td>0.14</td>\n",
       "      <td>0.58</td>\n",
       "      <td>0.83</td>\n",
       "      <td>0:01:13</td>\n",
       "      <td>0:00:02</td>\n",
       "    </tr>\n",
       "    <tr>\n",
       "      <th>4</th>\n",
       "      <td>0.12</td>\n",
       "      <td>0.58</td>\n",
       "      <td>0.83</td>\n",
       "      <td>0:01:13</td>\n",
       "      <td>0:00:03</td>\n",
       "    </tr>\n",
       "  </tbody>\n",
       "</table>\n",
       "</div>"
      ]
     },
     "execution_count": 23,
     "metadata": {},
     "output_type": "execute_result"
    }
   ],
   "execution_count": 23
  },
  {
   "metadata": {
    "ExecuteTime": {
     "end_time": "2024-09-30T09:55:28.227578Z",
     "start_time": "2024-09-30T09:55:24.394653Z"
    }
   },
   "cell_type": "code",
   "source": [
    "import matplotlib.pyplot as plt\n",
    "%matplotlib inline\n",
    "\n",
    "import seaborn as sns\n",
    "\n",
    "# 绘图风格设置\n",
    "sns.set(style='darkgrid')\n",
    "\n",
    "# Increase the plot size and font size.\n",
    "sns.set(font_scale=1.5)\n",
    "plt.rcParams[\"figure.figsize\"] = (12,6)\n",
    "\n",
    "# 绘制学习曲线\n",
    "plt.plot(df_stats['Training Loss'], 'b-o', label=\"Training\")\n",
    "plt.plot(df_stats['Valid. Loss'], 'g-o', label=\"Validation\")\n",
    "\n",
    "# Label the plot.\n",
    "plt.title(\"Training & Validation Loss\")\n",
    "plt.xlabel(\"Epoch\")\n",
    "plt.ylabel(\"Loss\")\n",
    "plt.legend()\n",
    "plt.xticks([1, 2, 3, 4])\n",
    "\n",
    "plt.show()\n"
   ],
   "id": "333fc4c46a8389f4",
   "outputs": [
    {
     "data": {
      "text/plain": [
       "<Figure size 1200x600 with 1 Axes>"
      ],
      "image/png": "[encoded data removed]"
     },
     "metadata": {},
     "output_type": "display_data"
    }
   ],
   "execution_count": 26
  },
  {
   "metadata": {
    "ExecuteTime": {
     "end_time": "2024-09-30T09:57:16.173155Z",
     "start_time": "2024-09-30T09:57:16.033146Z"
    }
   },
   "cell_type": "code",
   "source": [
    "import pandas as pd\n",
    "\n",
    "# 加载数据集\n",
    "df = pd.read_csv(\"./cola_public/cola_public/raw/out_of_domain_dev.tsv\", delimiter='\\t', header=None, names=['sentence_source', 'label', 'label_notes', 'sentence'])\n",
    "\n",
    "# 打印数据集大小\n",
    "print('Number of test sentences: {:,}\\n'.format(df.shape[0]))\n",
    "# 将数据集转换为列表\n",
    "sentences = df.sentence.values\n",
    "labels = df.label.values\n",
    "\n",
    "# 分词、填充或截断\n",
    "input_ids = []\n",
    "attention_masks = []\n",
    "for sent in sentences:\n",
    "    encoded_dict = tokenizer.encode_plus(\n",
    "                        sent,                      \n",
    "                        add_special_tokens = True, \n",
    "                        max_length = 64,           \n",
    "                        pad_to_max_length = True,\n",
    "                        return_attention_mask = True,   \n",
    "                        return_tensors = 'pt',     \n",
    "                   )\n",
    "    input_ids.append(encoded_dict['input_ids'])\n",
    "    attention_masks.append(encoded_dict['attention_mask'])\n",
    "\n",
    "input_ids = torch.cat(input_ids, dim=0)\n",
    "attention_masks = torch.cat(attention_masks, dim=0)\n",
    "labels = torch.tensor(labels)\n",
    "\n",
    "batch_size = 32  \n",
    "\n",
    "# 准备好数据集\n",
    "prediction_data = TensorDataset(input_ids, attention_masks, labels)\n",
    "prediction_sampler = SequentialSampler(prediction_data)\n",
    "prediction_dataloader = DataLoader(prediction_data, sampler=prediction_sampler, batch_size=batch_size)\n"
   ],
   "id": "ab8b61c994e4bb3b",
   "outputs": [
    {
     "name": "stdout",
     "output_type": "stream",
     "text": [
      "Number of test sentences: 516\n",
      "\n"
     ]
    },
    {
     "name": "stderr",
     "output_type": "stream",
     "text": [
      "D:\\Anaconda\\envs\\dsxAI\\lib\\site-packages\\transformers\\tokenization_utils_base.py:2418: FutureWarning: The `pad_to_max_length` argument is deprecated and will be removed in a future version, use `padding=True` or `padding='longest'` to pad to the longest sequence in the batch, or use `padding='max_length'` to pad to a max length. In this case, you can give a specific length with `max_length` (e.g. `max_length=45`) or leave max_length to None to pad to the maximal input size of the model (e.g. 512 for Bert).\n",
      "  warnings.warn(\n"
     ]
    }
   ],
   "execution_count": 28
  },
  {
   "metadata": {
    "ExecuteTime": {
     "end_time": "2024-09-30T09:57:39.090858Z",
     "start_time": "2024-09-30T09:57:37.158524Z"
    }
   },
   "cell_type": "code",
   "source": [
    "# 预测测试集\n",
    "\n",
    "print('Predicting labels for {:,} test sentences...'.format(len(input_ids)))\n",
    "# 依然是评估模式\n",
    "model.eval()\n",
    "\n",
    "# Tracking variables \n",
    "predictions , true_labels = [], []\n",
    "\n",
    "# 预测\n",
    "for batch in prediction_dataloader:\n",
    "  # 将数据加载到 gpu 中\n",
    "  batch = tuple(t.to(device) for t in batch)\n",
    "  b_input_ids, b_input_mask, b_labels = batch\n",
    "  \n",
    "  # 不需要计算梯度\n",
    "  with torch.no_grad():\n",
    "      # 前向传播，获取预测结果\n",
    "      outputs = model(b_input_ids, token_type_ids=None, \n",
    "                      attention_mask=b_input_mask)\n",
    "\n",
    "  logits = outputs[0]\n",
    "\n",
    "  # 将结果加载到 cpu 中\n",
    "  logits = logits.detach().cpu().numpy()\n",
    "  label_ids = b_labels.to('cpu').numpy()\n",
    "  \n",
    "  # 存储预测结果和 labels\n",
    "  predictions.append(logits)\n",
    "  true_labels.append(label_ids)\n",
    "\n",
    "print('    DONE.')\n"
   ],
   "id": "74f9bd059f62b8af",
   "outputs": [
    {
     "name": "stdout",
     "output_type": "stream",
     "text": [
      "Predicting labels for 516 test sentences...\n",
      "    DONE.\n"
     ]
    }
   ],
   "execution_count": 29
  },
  {
   "metadata": {
    "ExecuteTime": {
     "end_time": "2024-09-30T09:57:52.820474Z",
     "start_time": "2024-09-30T09:57:52.804470Z"
    }
   },
   "cell_type": "code",
   "source": [
    "print('Positive samples: %d of %d (%.2f%%)' % (df.label.sum(), len(df.label), (df.label.sum() / len(df.label) * 100.0)))\n",
    "\n"
   ],
   "id": "25a793c6ccbdcdc7",
   "outputs": [
    {
     "name": "stdout",
     "output_type": "stream",
     "text": [
      "Positive samples: 354 of 516 (68.60%)\n"
     ]
    }
   ],
   "execution_count": 30
  },
  {
   "metadata": {
    "ExecuteTime": {
     "end_time": "2024-09-30T09:58:08.391585Z",
     "start_time": "2024-09-30T09:58:07.592389Z"
    }
   },
   "cell_type": "code",
   "source": [
    "from sklearn.metrics import matthews_corrcoef\n",
    "\n",
    "matthews_set = []\n",
    "\n",
    "# 计算每个 batch 的 MCC\n",
    "print('Calculating Matthews Corr. Coef. for each batch...')\n",
    "\n",
    "# For each input batch...\n",
    "for i in range(len(true_labels)):\n",
    "  pred_labels_i = np.argmax(predictions[i], axis=1).flatten()\n",
    "  \n",
    "  # 计算该 batch 的 MCC  \n",
    "  matthews = matthews_corrcoef(true_labels[i], pred_labels_i)                \n",
    "  matthews_set.append(matthews)\n"
   ],
   "id": "c5316e02d29cb48",
   "outputs": [
    {
     "name": "stdout",
     "output_type": "stream",
     "text": [
      "Calculating Matthews Corr. Coef. for each batch...\n"
     ]
    }
   ],
   "execution_count": 31
  },
  {
   "metadata": {
    "ExecuteTime": {
     "end_time": "2024-09-30T09:58:16.568676Z",
     "start_time": "2024-09-30T09:58:16.435662Z"
    }
   },
   "cell_type": "code",
   "source": [
    "# 创建柱状图来显示每个 batch 的 MCC 分数\n",
    "ax = sns.barplot(x=list(range(len(matthews_set))), y=matthews_set, ci=None)\n",
    "\n",
    "plt.title('MCC Score per Batch')\n",
    "plt.ylabel('MCC Score (-1 to +1)')\n",
    "plt.xlabel('Batch #')\n",
    "\n",
    "plt.show()\n"
   ],
   "id": "1ef9a794cd8c44fc",
   "outputs": [
    {
     "name": "stderr",
     "output_type": "stream",
     "text": [
      "C:\\Users\\52460\\AppData\\Local\\Temp\\ipykernel_46124\\3983116212.py:2: FutureWarning: \n",
      "\n",
      "The `ci` parameter is deprecated. Use `errorbar=None` for the same effect.\n",
      "\n",
      "  ax = sns.barplot(x=list(range(len(matthews_set))), y=matthews_set, ci=None)\n"
     ]
    },
    {
     "data": {
      "text/plain": [
       "<Figure size 1200x600 with 1 Axes>"
      ],
      "image/png": "[encoded data removed]"
     },
     "metadata": {},
     "output_type": "display_data"
    }
   ],
   "execution_count": 32
  },
  {
   "metadata": {
    "ExecuteTime": {
     "end_time": "2024-09-30T09:58:36.584917Z",
     "start_time": "2024-09-30T09:58:36.576917Z"
    }
   },
   "cell_type": "code",
   "source": [
    "# 合并所有 batch 的预测结果\n",
    "flat_predictions = np.concatenate(predictions, axis=0)\n",
    "\n",
    "# 取每个样本的最大值作为预测值\n",
    "flat_predictions = np.argmax(flat_predictions, axis=1).flatten()\n",
    "\n",
    "# 合并所有的 labels\n",
    "flat_true_labels = np.concatenate(true_labels, axis=0)\n",
    "\n",
    "# 计算 MCC\n",
    "mcc = matthews_corrcoef(flat_true_labels, flat_predictions)\n",
    "\n",
    "print('Total MCC: %.3f' % mcc)\n",
    "\n"
   ],
   "id": "44eb5d2299f86592",
   "outputs": [
    {
     "name": "stdout",
     "output_type": "stream",
     "text": [
      "Total MCC: 0.519\n"
     ]
    }
   ],
   "execution_count": 33
  },
  {
   "metadata": {},
   "cell_type": "code",
   "outputs": [],
   "execution_count": null,
   "source": "",
   "id": "1fb7dda27732102e"
  }
 ],
 "metadata": {
  "kernelspec": {
   "display_name": "Python 3",
   "language": "python",
   "name": "python3"
  },
  "language_info": {
   "codemirror_mode": {
    "name": "ipython",
    "version": 2
   },
   "file_extension": ".py",
   "mimetype": "text/x-python",
   "name": "python",
   "nbconvert_exporter": "python",
   "pygments_lexer": "ipython2",
   "version": "2.7.6"
  }
 },
 "nbformat": 4,
 "nbformat_minor": 5
}
